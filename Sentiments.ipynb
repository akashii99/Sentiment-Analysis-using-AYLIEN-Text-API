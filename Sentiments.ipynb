{
 "cells": [
  {
   "cell_type": "code",
   "execution_count": 0,
   "metadata": {
    "colab": {},
    "colab_type": "code",
    "id": "WL81kCTzDqR9"
   },
   "outputs": [],
   "source": [
    "import tweepy, codecs"
   ]
  },
  {
   "cell_type": "code",
   "execution_count": 0,
   "metadata": {
    "colab": {},
    "colab_type": "code",
    "id": "mCTaiTPEEfk6"
   },
   "outputs": [],
   "source": [
    "consumer_key = 'I42nPDOyzs6UckRFy1QxtsPf8'\n",
    "consumer_secret = 'jmCre6s2MnWPbgZWAUjGhAXIoUwnm4sqBISdjvsc9itakzwnNG'\n",
    "access_token = '756314704755105796-75NOLBnpEk9xmdqm4ml5JzHR6pMDOJ8'\n",
    "access_token_secret = 'RyZrHSqpZohkd090Ufw08KcfuFwcU4rU1INDA3zV13yD2'\n",
    "\n",
    "# OAuth process, using the keys and tokens\n",
    "auth = tweepy.OAuthHandler(consumer_key, consumer_secret)\n",
    "auth.set_access_token(access_token, access_token_secret)\n",
    "api = tweepy.API(auth)"
   ]
  },
  {
   "cell_type": "code",
   "execution_count": 0,
   "metadata": {
    "colab": {},
    "colab_type": "code",
    "id": "fTaE7v2gErG7"
   },
   "outputs": [],
   "source": [
    "## fill in your search query and store your results in a variable\n",
    "results = api.search(q = \"women's day\", lang = \"en\", result_type = \"recent\", count = 1000)"
   ]
  },
  {
   "cell_type": "code",
   "execution_count": 0,
   "metadata": {
    "colab": {},
    "colab_type": "code",
    "id": "vRzYCQuDEzQD"
   },
   "outputs": [],
   "source": [
    "## use the codecs library to write the text of the Tweets to a .txt file\n",
    "file = codecs.open(\"modi.txt\", \"w\", \"utf-8\")\n",
    "for result in results:\n",
    "    file.write(result.text)\n",
    "    file.write(\"\\n\")\n",
    "file.close()"
   ]
  },
  {
   "cell_type": "code",
   "execution_count": 0,
   "metadata": {
    "colab": {},
    "colab_type": "code",
    "id": "FzGC-s6pE9Fr"
   },
   "outputs": [],
   "source": [
    "from aylienapiclient import textapi\n",
    "import csv, io\n",
    "\n",
    "## Initialize a new client of AYLIEN Text API\n",
    "client = textapi.Client(\"5a789084\", \"71cf4a9a0a1b75a95a5c07ca2205cd2a\")"
   ]
  },
  {
   "cell_type": "code",
   "execution_count": 62,
   "metadata": {
    "colab": {
     "base_uri": "https://localhost:8080/",
     "height": 1625
    },
    "colab_type": "code",
    "id": "iq5tAu4SFJGb",
    "outputId": "8f94f99e-76de-4155-9a88-c2c68249f015"
   },
   "outputs": [
    {
     "name": "stdout",
     "output_type": "stream",
     "text": [
      "RT @uwltrisigma: Happy International Women’s day!! Every woman deserves to be seen for who she is and heard, her voice matters ⭐️ https://t…\n",
      "RT @casspernyovest: Everyday we wake up to videos and news about people shooting people, kids being killed walking to school, women missing…\n",
      "RT @gp351: Why don’t the #BloodySunday families ask @sinnfeinireland why the #IRA deemed it a good idea to hide behind civilians, women &amp; c…\n",
      "RT @aClockworkObi: #MardMarch, because some men get their panties in a twist over women exercising their right to speak out for one goddamn…\n",
      "Coinciding with International Women’s Day, Canada’s first Indigenous woman-owned airline launched out of Vancouver… https://t.co/QIoFDzD5sD\n",
      "RT @lisaphillip85: @ChiomaUkonu going places. At the Cherie Blair Foundation for Women International Women's Day event. So proud of the wor…\n",
      "BCT celebrated Women's Day like never before across the globe. Over a hundred women took part in various events, wo… https://t.co/2ku3Jw5M8w\n",
      "RT @daenerysloki: and call it what it is: this is a hate crime and it is terrorism. innocent men, women and children were murdered for the…\n",
      "3 Important Differences Between Men and Women: What I Learned While Helping My Son Shop for Valentine’s Day https://t.co/nOeAgFje4i\n",
      "GAME DAY: No. 4 Hibbing look to rebound vs No. 8 Anne Arundel in Game 1 of Day 2 of the NJCAA DIII Women's Basketba… https://t.co/gX6xzYGWmW\n",
      "RT @MunnaG79: #MuslimsAreNotTerrorists\n",
      "Attacking innocent people is not courageous, it is stupid and will be punished on the day of judgeme…\n",
      "RT @HenleyWatches: 👩🏼💝 Mother’s Day #Giveaway!\n",
      "To celebrate #MothersDay we are giving away one of our beautiful women’s watches, retailing…\n",
      "RT @scsclassics: Over at Sententiae Antiquae, they have updated their compiled list of female authors from antiquity. It’s not just Sappho!…\n",
      "summoning circle, hope this works , 👏 women 👏 do 👏 not 👏 want 👏 chocolate 👏 for 👏 valentine’s 👏 day 👏 they 👏 want 👏 limes 👏\n",
      "[Audio] Jones Day Talks: Women in IP: The Supreme Court's \"Copyright Day\" https://t.co/cQ20CKrmNk\n",
      "RT @casspernyovest: Everyday we wake up to videos and news about people shooting people, kids being killed walking to school, women missing…\n",
      "[Audio] Jones Day Talks: Women in IP: The Supreme Court's \"Copyright Day\" https://t.co/KsVXGOIu5F\n",
      "RT @HenleyWatches: 👩🏼💝 Mother’s Day #Giveaway!\n",
      "To celebrate #MothersDay we are giving away one of our beautiful women’s watches, retailing…\n",
      "RT @FIFAWWC: #IWD2019 is over. So what about the other 364 days?\n",
      "Our work continues. Every day. Guided by FIFA's Women's Football Strategy.…\n",
      "RT @idolsonyeondan: I want to do a little more to help the victims get the justice they deserve. And so I found this on the UN website. Eve…\n",
      "RT @casspernyovest: Everyday we wake up to videos and news about people shooting people, kids being killed walking to school, women missing…\n",
      "RT @aClockworkObi: #MardMarch, because some men get their panties in a twist over women exercising their right to speak out for one goddamn…\n",
      "It might be the last day of National Lesbian, Bisexual and Trans Women's Health Week but awareness should be raised… https://t.co/cYnEJd7AiG\n",
      "RT @Harry_Styles: Thank you to all the wonderful women of today, yesterday, and always. Happy International Women’s Day. H\n",
      "We love the students that dream big and are motivated to start a new career. Don’t miss out on the opportunity to e… https://t.co/Tyx5uxpdSa\n",
      "RT @idolsonyeondan: I want to do a little more to help the victims get the justice they deserve. And so I found this on the UN website. Eve…\n",
      "RT @casspernyovest: Everyday we wake up to videos and news about people shooting people, kids being killed walking to school, women missing…\n",
      "RT @aClockworkObi: First off, you absolutely cannot compare your privilege as a man to what women suffer. Secondly, I would love to discuss…\n",
      "RT @CommissionerHR: Poland should restore guarantees for independence of judges and prosecutors, prevent regression on #WomensRights and co…\n",
      "RT @RedLetterDaysUK: ❗Competition alert❗️ This International Women's Day Red Letter Days is offering you a Spa Day for Two. Comment below a…\n",
      "RT @VedantaFootball: Be fearless in pursuing what sets your soul on fire.\n",
      "Sesa Football Academy celebrates womanhood by empowering women t…\n",
      "RT @ReadingInHeels: Today's your last chance to take part in our International Women's Week #competitions, including to #WIN the entire @Wo…\n",
      "Can a random rich person please sponsor me moving to NZ?\n",
      "skipped\n",
      "Our PM can't even successfully be pro-women's rights on… https://t.co/SKruZeN49w\n",
      "Celebrating International Women's Day 2019, we hosted women of different backgrounds to speak on the challenges the… https://t.co/jQEqhs1uTV\n",
      "RT @Harry_Styles: Thank you to all the wonderful women of today, yesterday, and always. Happy International Women’s Day. H\n",
      "RT @Harry_Styles: Thank you to all the wonderful women of today, yesterday, and always. Happy International Women’s Day. H\n",
      "RT @casspernyovest: Everyday we wake up to videos and news about people shooting people, kids being killed walking to school, women missing…\n",
      "RT @b1socceracad3my: New experiences with #women's soccer and this time with the former professional player of FC Barcelona, \"Chapi\" Ferrer…\n",
      "Under the banner of #KheloIndia ‘Sports for Peace &amp; development’, a 15-day basic cricket coaching camp, which was o… https://t.co/NDJypc3OlW\n",
      "RT @worldcurling: Event preview | One day to go until the LGT World Women's Curling Championship 2019 in Silkeborg, Denmark\n",
      "skipped\n",
      "👉 Everything y…\n",
      "RT @casspernyovest: Everyday we wake up to videos and news about people shooting people, kids being killed walking to school, women missing…\n",
      "RT @casspernyovest: Everyday we wake up to videos and news about people shooting people, kids being killed walking to school, women missing…\n",
      "RT @Harry_Styles: Thank you to all the wonderful women of today, yesterday, and always. Happy International Women’s Day. H\n",
      "RT @sailorthickie: @TamarWrites this isnt a kpop thing or a music industry thing, this runs deeper than that it includes ceo’s of large coo…\n",
      "RT @joelycett: Happy International Women's Day! International women are my favourite! Local women are shit!!!!\n",
      "RT @idolsonyeondan: I want to do a little more to help the victims get the justice they deserve. And so I found this on the UN website. Eve…\n",
      "RT @idolsonyeondan: I want to do a little more to help the victims get the justice they deserve. And so I found this on the UN website. Eve…\n",
      "Gentleman Jack Toasts to International Women’s Day (Pics) https://t.co/JlWU61uj9O #GJWomensDay @JackDaniels_US https://t.co/U7dsBdyISo\n",
      "RT @casspernyovest: Everyday we wake up to videos and news about people shooting people, kids being killed walking to school, women missing…\n",
      "RT @sincerelyshawol: no matter how long, how hard we stan,\n",
      "always remember that at the end of the day,\n",
      "we are humans,\n",
      "we are women,\n",
      "before…\n",
      "RT @rihanna: international women’s day errday... big ups to every beautiful spirit manifested as woman in this “man’s” world! 😽💪🏿 https://t…\n",
      "RT @CommissionerHR: Poland should restore guarantees for independence of judges and prosecutors, prevent regression on #WomensRights and co…\n",
      "RT @idolsonyeondan: I want to do a little more to help the victims get the justice they deserve. And so I found this on the UN website. Eve…\n"
     ]
    },
    {
     "ename": "HttpError",
     "evalue": "ignored",
     "output_type": "error",
     "traceback": [
      "\u001b[0;31m---------------------------------------------------------------------------\u001b[0m",
      "\u001b[0;31mHttpError\u001b[0m                                 Traceback (most recent call last)",
      "\u001b[0;32m<ipython-input-62-261866f81994>\u001b[0m in \u001b[0;36m<module>\u001b[0;34m()\u001b[0m\n\u001b[1;32m     15\u001b[0m \u001b[0;34m\u001b[0m\u001b[0m\n\u001b[1;32m     16\u001b[0m                 \u001b[0;31m## Make call to AYLIEN Text API\u001b[0m\u001b[0;34m\u001b[0m\u001b[0;34m\u001b[0m\u001b[0;34m\u001b[0m\u001b[0m\n\u001b[0;32m---> 17\u001b[0;31m                 \u001b[0msentiment\u001b[0m \u001b[0;34m=\u001b[0m \u001b[0mclient\u001b[0m\u001b[0;34m.\u001b[0m\u001b[0mSentiment\u001b[0m\u001b[0;34m(\u001b[0m\u001b[0;34m{\u001b[0m\u001b[0;34m'text'\u001b[0m\u001b[0;34m:\u001b[0m \u001b[0mtweet\u001b[0m\u001b[0;34m}\u001b[0m\u001b[0;34m)\u001b[0m\u001b[0;34m\u001b[0m\u001b[0;34m\u001b[0m\u001b[0m\n\u001b[0m\u001b[1;32m     18\u001b[0m \u001b[0;34m\u001b[0m\u001b[0m\n\u001b[1;32m     19\u001b[0m                 \u001b[0;31m## Write the sentiment result into csv file\u001b[0m\u001b[0;34m\u001b[0m\u001b[0;34m\u001b[0m\u001b[0;34m\u001b[0m\u001b[0m\n",
      "\u001b[0;32m/usr/local/lib/python3.6/dist-packages/aylienapiclient/textapi.py\u001b[0m in \u001b[0;36mSentiment\u001b[0;34m(self, options)\u001b[0m\n\u001b[1;32m    375\u001b[0m       \u001b[0;32mraise\u001b[0m \u001b[0mMissingParameterError\u001b[0m\u001b[0;34m(\u001b[0m\u001b[0;34m'You must either provide url or text'\u001b[0m\u001b[0;34m)\u001b[0m\u001b[0;34m\u001b[0m\u001b[0;34m\u001b[0m\u001b[0m\n\u001b[1;32m    376\u001b[0m \u001b[0;34m\u001b[0m\u001b[0m\n\u001b[0;32m--> 377\u001b[0;31m     \u001b[0mresponse\u001b[0m \u001b[0;34m=\u001b[0m \u001b[0mself\u001b[0m\u001b[0;34m.\u001b[0m\u001b[0m_executeRequest\u001b[0m\u001b[0;34m(\u001b[0m\u001b[0;34m'sentiment'\u001b[0m\u001b[0;34m,\u001b[0m \u001b[0moptions\u001b[0m\u001b[0;34m)\u001b[0m\u001b[0;34m\u001b[0m\u001b[0;34m\u001b[0m\u001b[0m\n\u001b[0m\u001b[1;32m    378\u001b[0m \u001b[0;34m\u001b[0m\u001b[0m\n\u001b[1;32m    379\u001b[0m     \u001b[0;32mreturn\u001b[0m \u001b[0mresponse\u001b[0m\u001b[0;34m\u001b[0m\u001b[0;34m\u001b[0m\u001b[0m\n",
      "\u001b[0;32m/usr/local/lib/python3.6/dist-packages/aylienapiclient/textapi.py\u001b[0m in \u001b[0;36m_executeRequest\u001b[0;34m(self, endpoint, params)\u001b[0m\n\u001b[1;32m    629\u001b[0m \u001b[0;34m\u001b[0m\u001b[0m\n\u001b[1;32m    630\u001b[0m     \u001b[0;32mif\u001b[0m \u001b[0mresponse\u001b[0m\u001b[0;34m.\u001b[0m\u001b[0mstatus\u001b[0m \u001b[0;34m>=\u001b[0m \u001b[0;36m300\u001b[0m\u001b[0;34m:\u001b[0m\u001b[0;34m\u001b[0m\u001b[0;34m\u001b[0m\u001b[0m\n\u001b[0;32m--> 631\u001b[0;31m       \u001b[0;32mraise\u001b[0m \u001b[0mHttpError\u001b[0m\u001b[0;34m(\u001b[0m\u001b[0mresponse\u001b[0m\u001b[0;34m,\u001b[0m \u001b[0mcontent\u001b[0m\u001b[0;34m,\u001b[0m \u001b[0muri\u001b[0m\u001b[0;34m=\u001b[0m\u001b[0mrequest\u001b[0m\u001b[0;34m.\u001b[0m\u001b[0muri\u001b[0m\u001b[0;34m)\u001b[0m\u001b[0;34m\u001b[0m\u001b[0;34m\u001b[0m\u001b[0m\n\u001b[0m\u001b[1;32m    632\u001b[0m \u001b[0;34m\u001b[0m\u001b[0m\n\u001b[1;32m    633\u001b[0m     \u001b[0;32mif\u001b[0m \u001b[0msys\u001b[0m\u001b[0;34m.\u001b[0m\u001b[0mversion_info\u001b[0m \u001b[0;34m>=\u001b[0m \u001b[0;34m(\u001b[0m\u001b[0;36m3\u001b[0m\u001b[0;34m,\u001b[0m \u001b[0;36m0\u001b[0m\u001b[0;34m)\u001b[0m\u001b[0;34m:\u001b[0m\u001b[0;34m\u001b[0m\u001b[0;34m\u001b[0m\u001b[0m\n",
      "\u001b[0;31mHttpError\u001b[0m: <HttpError 429 when requesting https://api.aylien.com/api/v1/sentiment returned \"Too Many Requests\">"
     ]
    }
   ],
   "source": [
    "with io.open('Womes_day.csv', 'w', encoding='utf8', newline='') as csvfile:\n",
    "    csv_writer = csv.writer(csvfile)\n",
    "    csv_writer.writerow([\"Tweet\", \"Sentiment\"])\n",
    "    with io.open(\"modi.txt\", 'r', encoding='utf8') as f:\n",
    "        for tweet in f.readlines():\n",
    "        \t## Remove extra spaces or newlines around the text\n",
    "        \ttweet = tweet.strip()\n",
    "\n",
    "        \t## Reject tweets which are empty so you don’t waste your API credits\n",
    "        \tif len(tweet) == 0:\n",
    "        \t\tprint('skipped')\n",
    "        \t\tcontinue\n",
    "        \t\n",
    "        \tprint(tweet)\n",
    "\n",
    "        \t## Make call to AYLIEN Text API\n",
    "        \tsentiment = client.Sentiment({'text': tweet})\n",
    "\n",
    "        \t## Write the sentiment result into csv file\n",
    "        \tcsv_writer.writerow([sentiment['text'], sentiment['polarity']])"
   ]
  },
  {
   "cell_type": "code",
   "execution_count": 0,
   "metadata": {
    "colab": {},
    "colab_type": "code",
    "id": "U69QUlprGRuq"
   },
   "outputs": [],
   "source": [
    "import matplotlib.pyplot as plt \n",
    "import pandas as pd\n",
    "from collections import Counter\n",
    "import csv "
   ]
  },
  {
   "cell_type": "code",
   "execution_count": 0,
   "metadata": {
    "colab": {},
    "colab_type": "code",
    "id": "LQaRMND3I-8y"
   },
   "outputs": [],
   "source": [
    "with open('Womes_day.csv', 'r', encoding = 'utf8') as csvfile:\n",
    "    ## use Pandas to read the “Sentiment” column,\n",
    "        df = pd.read_csv(csvfile)\n",
    "sent = df[\"Sentiment\"]"
   ]
  },
  {
   "cell_type": "code",
   "execution_count": 0,
   "metadata": {
    "colab": {},
    "colab_type": "code",
    "id": "h1A9WvQNJKSt"
   },
   "outputs": [],
   "source": [
    "counter = Counter(sent)\n",
    "positive = counter['positive']\n",
    "negative = counter['negative']\n",
    "neutral = counter['neutral']"
   ]
  },
  {
   "cell_type": "code",
   "execution_count": 0,
   "metadata": {
    "colab": {},
    "colab_type": "code",
    "id": "WPgYN5DwJZ7X"
   },
   "outputs": [],
   "source": [
    "labels = 'Positive', 'Negative', 'Neutral'\n",
    "sizes = [positive, negative, neutral]\n",
    "colors = ['green', 'red', 'grey']\n",
    "yourtext = \"Women's Day Sentiment Analysis\""
   ]
  },
  {
   "cell_type": "code",
   "execution_count": 69,
   "metadata": {
    "colab": {
     "base_uri": "https://localhost:8080/",
     "height": 345
    },
    "colab_type": "code",
    "id": "uyxdnNyoJc_B",
    "outputId": "8f771510-6db1-44a1-b422-ae8e4b205341"
   },
   "outputs": [
    {
     "data": {
      "image/png": "[encoded data removed]",
      "text/plain": [
       "<Figure size 576x396 with 1 Axes>"
      ]
     },
     "metadata": {
      "tags": []
     },
     "output_type": "display_data"
    }
   ],
   "source": [
    "plt.pie(sizes, labels = labels, colors = colors, shadow = True, startangle = 90)\n",
    "plt.title(\"Sentiment of 200 Tweets about \"+yourtext)\n",
    "plt.show()"
   ]
  },
  {
   "cell_type": "code",
   "execution_count": 70,
   "metadata": {
    "colab": {
     "base_uri": "https://localhost:8080/",
     "height": 34
    },
    "colab_type": "code",
    "id": "cnXqKaqRJgEf",
    "outputId": "b176fbec-7c0a-4045-ca02-c9bab96379ed"
   },
   "outputs": [
    {
     "name": "stdout",
     "output_type": "stream",
     "text": [
      "11 13 39\n"
     ]
    }
   ],
   "source": [
    "print(positive, negative, neutral)"
   ]
  }
 ],
 "metadata": {
  "colab": {
   "name": "Sentiments.ipynb",
   "provenance": [],
   "version": "0.3.2"
  },
  "kernelspec": {
   "display_name": "Python 3",
   "language": "python",
   "name": "python3"
  },
  "language_info": {
   "codemirror_mode": {
    "name": "ipython",
    "version": 2
   },
   "file_extension": ".py",
   "mimetype": "text/x-python",
   "name": "python",
   "nbconvert_exporter": "python",
   "pygments_lexer": "ipython2",
   "version": "2.7.12"
  }
 },
 "nbformat": 4,
 "nbformat_minor": 1
}
